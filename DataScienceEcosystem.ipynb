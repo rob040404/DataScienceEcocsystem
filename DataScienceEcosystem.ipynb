{
 "cells": [
  {
   "cell_type": "markdown",
   "id": "aeadc47c-f5f2-428d-a8ab-ae8477303b08",
   "metadata": {
    "tags": []
   },
   "source": [
    "# Data Science Tools and Ecosystem"
   ]
  },
  {
   "cell_type": "markdown",
   "id": "84017f7e-23eb-4fde-9d44-1f0418606cb0",
   "metadata": {
    "tags": []
   },
   "source": [
    "## In this book, Data Science Tools and Ecosystem are summarized."
   ]
  },
  {
   "cell_type": "markdown",
   "id": "676e17b8-d5fe-4c0f-8c28-74f9ebc4b01d",
   "metadata": {},
   "source": [
    "**Objectives:**\n",
    "* List popular Data Science languages\n",
    "* List some commonly used Enviroments\n",
    "* List some popular Data Science Libraries\n",
    "* Evaluate some arithmetic expressions\n"
   ]
  },
  {
   "cell_type": "markdown",
   "id": "eea11d23-0714-448a-9f3f-ca9b440073ab",
   "metadata": {},
   "source": [
    "Some of the popular languages that Data Scientists use are:\n",
    "1. Phyton\n",
    "2. R\n",
    "3. Scala"
   ]
  },
  {
   "cell_type": "markdown",
   "id": "a3dc517d-e8ac-4e77-af6b-d2ed829a17d5",
   "metadata": {},
   "source": [
    "Some of the commonly used libraries used by Data Scientists include:\n",
    "\n",
    "1. Pandas\n",
    "2. NumPy\n",
    "3. Matplotlib\n"
   ]
  },
  {
   "cell_type": "markdown",
   "id": "91dc998e-1c28-4f96-bd84-230ea56effcc",
   "metadata": {},
   "source": [
    "| Data Science Tools |\n",
    "| ------------------ |\n",
    "| JupyterNotebook |\n",
    "| RStudio |\n",
    "| Apache Zeppelin |\n"
   ]
  },
  {
   "cell_type": "markdown",
   "id": "aa707cb3-d7d6-475b-b57e-2ff3d528ff6e",
   "metadata": {},
   "source": [
    "### Below are a few examples of evaluating arithmetic expressions in Python.\n"
   ]
  },
  {
   "cell_type": "code",
   "execution_count": 1,
   "id": "027911ce-b59f-4e85-a3c6-0292b848757e",
   "metadata": {
    "tags": []
   },
   "outputs": [
    {
     "data": {
      "text/plain": [
       "17"
      ]
     },
     "execution_count": 1,
     "metadata": {},
     "output_type": "execute_result"
    }
   ],
   "source": [
    "# This a simple arithmetic expression to mutiply then add integers\n",
    "\n",
    "(3*4)+5\n"
   ]
  },
  {
   "cell_type": "code",
   "execution_count": 2,
   "id": "4ab5eef3-cd54-4841-ac60-901954ec83d6",
   "metadata": {
    "tags": []
   },
   "outputs": [
    {
     "data": {
      "text/plain": [
       "3.3333333333333335"
      ]
     },
     "execution_count": 2,
     "metadata": {},
     "output_type": "execute_result"
    }
   ],
   "source": [
    "# This will convert 200 minutes to hours by diving by 60.\n",
    "200/60"
   ]
  },
  {
   "cell_type": "markdown",
   "id": "dccab676-a575-4425-a245-feffe2ac21e1",
   "metadata": {},
   "source": [
    "## Author\n",
    "Robert Kovachev\n"
   ]
  },
  {
   "cell_type": "code",
   "execution_count": null,
   "id": "062192e5-42de-4f77-ab4b-cfd0a6da226a",
   "metadata": {},
   "outputs": [],
   "source": []
  }
 ],
 "metadata": {
  "kernelspec": {
   "display_name": "Python",
   "language": "python",
   "name": "conda-env-python-py"
  },
  "language_info": {
   "codemirror_mode": {
    "name": "ipython",
    "version": 3
   },
   "file_extension": ".py",
   "mimetype": "text/x-python",
   "name": "python",
   "nbconvert_exporter": "python",
   "pygments_lexer": "ipython3",
   "version": "3.7.12"
  }
 },
 "nbformat": 4,
 "nbformat_minor": 5
}
